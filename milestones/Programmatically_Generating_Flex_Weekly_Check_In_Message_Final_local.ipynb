{
 "cells": [
  {
   "cell_type": "markdown",
   "metadata": {
    "id": "hZki1LXecd5e"
   },
   "source": [
    "# Programmatically Generating Flex Weekly Check-In Message - Final"
   ]
  },
  {
   "cell_type": "markdown",
   "metadata": {
    "id": "dZDOA9fschSd"
   },
   "source": [
    "- Goal is to be able to generate (mostly) pre-filled messages to students based \n",
    "upon their milestone progress. \n",
    "\n",
    ">- Note: this is a cleaned-up version of [the original WIP notebook](https://colab.research.google.com/drive/19I8iK7f7AuzEfmL_5JdNbdvfGgZyGVBx?usp=sharing). \n"
   ]
  },
  {
   "cell_type": "markdown",
   "metadata": {
    "id": "sAZ8OZasu42Z"
   },
   "source": [
    "## Imports and Functions"
   ]
  },
  {
   "cell_type": "code",
   "execution_count": 1,
   "metadata": {
    "ExecuteTime": {
     "end_time": "2021-10-25T15:39:35.446835Z",
     "start_time": "2021-10-25T15:39:34.055817Z"
    },
    "id": "edqLDKxAyb_9"
   },
   "outputs": [],
   "source": [
    "# !pip install -U fsds\n",
    "# from fsds.imports import *\n",
    "\n",
    "import pandas as pd\n",
    "import numpy as np\n",
    "import seaborn as sns \n",
    "import matplotlib.pyplot as plt\n",
    "\n",
    "import datetime as dt\n",
    "import os, sys, glob\n",
    "\n",
    "# from google.colab import files\n",
    "\n",
    "def get_student_milestones(df, student_name, as_dates=False,verbose=False,\n",
    "                           drop_columns=['Instructor', 'Learn UUID',\n",
    "                                         'First Name','Last Name','Current Pacing In Weeks']):\n",
    "    \n",
    "    ## Get student data\n",
    "    if df['Full Name'].isin([student_name]).any():\n",
    "        student_full = df.loc[ df[\"Full Name\"] == student_name].copy()\n",
    "    else:\n",
    "        if verbose: print(f'Exact match not found for \"{student_name}\"\", using a partial match.')\n",
    "        student_full = df.loc[ df[\"Full Name\"].str.contains(student_name)].copy()\n",
    "\n",
    "\n",
    "    ## Set the correct index based on as_dates\n",
    "    if as_dates:\n",
    "        milestones = student_full.set_index('Due Date').sort_index()\n",
    "    else:\n",
    "        milestones = student_full.set_index(['Full Name','Ordinality']).sort_index()\n",
    "        \n",
    "  \n",
    "    # Sorting through all milestones to generate milestone report\n",
    "    drop_cols = [c for c in milestones.columns if \"Last\" in c]\n",
    "    drop_cols.extend(drop_columns)\n",
    "    \n",
    "    return milestones.drop(columns=drop_cols)\n",
    "    \n",
    "\n",
    "\n",
    "\n",
    "def get_milestone_report(df,student_name,\n",
    "                         report_cols = ['Ordinality','Milestone Name',\n",
    "                                        'Due Date','Completed Date',\n",
    "                                        'Milestone on Timeness'],verbose=True):\n",
    "    \n",
    "    ## Get single row for summary/personal info\n",
    "    try:\n",
    "        student = df.loc[ df[\"Full Name\"] == student_name].iloc[0].copy()\n",
    "    except:\n",
    "        if verbose: print(f'[!] Exact match not found for \"{student_name}\", using a partial match instead.')\n",
    "        student = df.loc[ df[\"Full Name\"].str.contains(student_name)].iloc[0].copy()\n",
    "\n",
    "    ## Get the milestones as dates\n",
    "    mstones_ts = get_student_milestones(df,student_name=student_name,\n",
    "                                        as_dates=True)\n",
    "    mstones_ts.rename({'Ordinality':'Milestone #'},inplace=True,axis=1)\n",
    "    \n",
    "\n",
    "    ## Get last and next\n",
    "    last_mstone= mstones_ts.loc[mstones_ts['Completed Date'].notnull()].tail(1).copy()\n",
    "    next_mstone= mstones_ts.loc[mstones_ts['Completed Date'].isnull()].head(1).copy()\n",
    "\n",
    "    ## Use today to slice out milestones\n",
    "    today = dt.date.today()\n",
    "    before_today = mstones_ts.loc[:today].copy()\n",
    "\n",
    "    ## get past-due\n",
    "    past_due = before_today.loc[before_today['Completed Date'].isna()].copy()#, \n",
    "                                # ['Ordinality','Milestone Name','Milestone on Timeness']].copy()\n",
    "    ## Generate report df\n",
    "    report_df = pd.concat({'last':last_mstone.reset_index().set_index('Milestone #'),\n",
    "                           'next':next_mstone.reset_index().set_index('Milestone #'),\n",
    "                           'past_due':past_due.reset_index().set_index('Milestone #')})\n",
    "    \n",
    "    report_df.drop(columns=['Full Name'],inplace=True)\n",
    "\n",
    "\n",
    "    # report_df.set_index('Milestone #',inplace=True)\n",
    "    # report = {'student':student_name,\n",
    "    #         'milestones':mstones_ts,\n",
    "    #           'before_today':before_today.reset_index(),\n",
    "    #           'last':last_mstone.reset_index(),\n",
    "    #           'next':next_mstone.reset_index(),\n",
    "    #           'past_due':past_due.reset_index()}\n",
    "        \n",
    "    results = {'Full Name':student['Full Name'],\n",
    "               'First Name':student['First Name'],\n",
    "               'pace':student[\"Current Pacing In Weeks\"],\n",
    "               'instructor':student['Instructor'],\n",
    "               'id':student['Learn UUID'],\n",
    "               'milestones':mstones_ts,\n",
    "            # 'milestones':mstones_ts,\n",
    "            'report':report_df }\n",
    "                                \n",
    "    return results\n",
    "\n",
    "\n",
    "\n",
    "\n",
    "\n",
    "def generate_detailed_message(df,student_name, unique_q = \"I was wondering what topics are you planning on tackling this week?\",\n",
    "                        print_ =False,error = False):\n",
    "    \"\"\"Generates a weekly check-in message when applied across rows.\n",
    "    \n",
    "    Example Usage:\n",
    "    >> df.apply(generate_message,axis=1)\"\"\"\n",
    "    \n",
    "    report = get_milestone_report(df,student_name)\n",
    "\n",
    "\n",
    "    # student_full = df.loc[ df[\"Full Name\"] == student_name].copy()\n",
    "    # student = student_full.iloc[0].copy()\n",
    "\n",
    "    # ## Calculating last completed milestones\n",
    "    # last_df = df.set_index('Completed Date').sort_index()\n",
    "    # last_df = last_df.groupby('Full Name').last()\n",
    "\n",
    "    # student_last_mstone = last_df.loc[ student['Full Name']]\n",
    "\n",
    "    ## SAVING MESSAGE COMPONENTS\n",
    "    import datetime as dt\n",
    "    today_date = dt.datetime.today()\n",
    "\n",
    "    ## get day name\n",
    "    day_of_week = today_date.strftime(\"%A\")\n",
    "\n",
    "    ## Get 1=Monday version of weekday\n",
    "    if today_date.isoweekday() <= 2:\n",
    "        greeting_q = \"How was your weekend?\"\n",
    "    else:\n",
    "        greeting_q = \"How is your week going so far?\"\n",
    "\n",
    "\n",
    "    ## Format unique q\n",
    "    unique_q = unique_q[0].lower() + unique_q[1:]\n",
    "    if unique_q[:2] == 'i ':\n",
    "        unique_q = unique_q.capitalize()\n",
    "\n",
    "    report_reset = report['report'].reset_index(level=1)\n",
    "    \n",
    "    try:\n",
    "\n",
    "        message = \\\n",
    "f\"\"\"Hey {report['First Name']},\n",
    ":sunrise: Happy {day_of_week}!:sun-happy:\n",
    "\n",
    "I just wanted to check in with you and see how everything is going. {greeting_q}\n",
    "\n",
    "- Also, {unique_q}\n",
    "\n",
    "- I also wanted to remind you of the milestones (base.flatironschool.com/milestones) for your {report['pace']}-week pace:\n",
    "    - Your Last Milestone completed was:\n",
    "        - {report_reset.loc['last','Milestone Name']}, which you completed {report_reset.loc['last','Milestone on Timeness']}.\n",
    "\n",
    "    - Your next milestone is to complete:\n",
    "        {report_reset.loc['next','Milestone Name']} by {report_reset.loc['next','Due Date'].strftime('%m-%d-%Y')}\n",
    "\n",
    "    - Right now you are <INSTRUCTOR WRITTEN SUMMARY> your desired {report['pace']}-week pace.\n",
    "\n",
    "\n",
    "- Finally, I just wanted to check if there is anything that you need or that I can assist you with?\n",
    "\n",
    "Thanks!\n",
    "\"\"\"\n",
    "    except Exception as e:\n",
    "        if error:\n",
    "            msg = f\"Error when processing {student_name}:\\n\"+e\n",
    "            raise Exception(e)\n",
    "        message = \\\n",
    "f\"\"\"Hey {report['First Name']},\n",
    ":sunrise: Happy {day_of_week}!:sun-happy:\n",
    "\n",
    "I just wanted to check in with you and see how everything is going. {greeting_q}\n",
    "\n",
    "- Also, {unique_q}\n",
    "\n",
    "- I also wanted to remind you of the milestones (base.flatironschool.com/milestones) for your {report['pace']}-week pace:\n",
    "\n",
    "    - Your next milestone is to complete:\n",
    "        {report_reset.loc['next','Milestone Name']} by {report_reset.loc['next','Due Date'].strftime('%m-%d-%Y')}\n",
    "\n",
    "    - Right now you are <INSTRUCTOR WRITTEN SUMMARY> your desired {report['pace']}-week pace.\n",
    "\n",
    "\n",
    "- Finally, I just wanted to check if there is anything that you need or that I can assist you with?\n",
    "\n",
    "Thanks!\n",
    "\"\"\" \n",
    "    \n",
    "    if print:\n",
    "\n",
    "        print('---'*20)\n",
    "        print(report['Full Name'])#['First Name'] + \" \" + student[\"Last Name\"])\n",
    "\n",
    "        id = report[\"id\"]\n",
    "        mstone_url = f\"https://guide.flatironschool.com/students/{id}/milestones\"\n",
    "        notes_url = f\"https://guide.flatironschool.com/students/{id}/notes\"\n",
    "\n",
    "        print(notes_url)\n",
    "        print()\n",
    "        print(message)\n",
    "        display(report['report'])\n",
    "        # print('\\n'*2)\n",
    "\n",
    "    else:\n",
    "        return message\n"
   ]
  },
  {
   "cell_type": "markdown",
   "metadata": {
    "id": "o_AnqFrKi4J3"
   },
   "source": [
    "## Download Looker Data and Load into Colab"
   ]
  },
  {
   "cell_type": "markdown",
   "metadata": {
    "id": "6zR7lWlrkoEL"
   },
   "source": [
    "- Go to the [Student Milestones Look](https://flatiron.looker.com/looks/1071?toggle=fil,pik)\n",
    "    - change instructor filter to your name.\n",
    "    - Click `Run`\n",
    "    - Click on Gear Icon -> Download\n",
    "    - Save as CSV with the folloowing options:\n",
    "        - [ ] **As Displayed in Table**\n",
    "        - [ ] Formatted\n",
    "        - [ ] All results\n",
    "        - Click Download.\n",
    "\n",
    "    - Upload the file below."
   ]
  },
  {
   "cell_type": "code",
   "execution_count": 2,
   "metadata": {
    "ExecuteTime": {
     "end_time": "2021-10-25T15:39:35.455245Z",
     "start_time": "2021-10-25T15:39:35.449053Z"
    },
    "colab": {
     "base_uri": "https://localhost:8080/",
     "height": 910,
     "resources": {
      "http://localhost:8080/nbextensions/google.colab/files.js": {
       "data": "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",
       "headers": [
        [
         "content-type",
         "application/javascript"
        ]
       ],
       "ok": true,
       "status": 200,
       "status_text": ""
      }
     }
    },
    "id": "VZyr3tIPup9S",
    "outputId": "fdbf8aa9-0845-4c9e-d5dc-3bba31d3e6ad"
   },
   "outputs": [
    {
     "data": {
      "text/plain": [
       "['/Users/jamesirving/Downloads/Student Milestones 2021-10-25T1130.csv',\n",
       " '/Users/jamesirving/Downloads/Student Milestones 2021-10-25T1135.csv']"
      ]
     },
     "execution_count": 2,
     "metadata": {},
     "output_type": "execute_result"
    }
   ],
   "source": [
    "fpath = \"/Users/jamesirving/Downloads/\"\n",
    "files = sorted(glob.glob(fpath+'Student Milestones*'))\n",
    "files\n",
    "\n",
    "# df = \n",
    "# ## Upload milestones .csv\n",
    "# uploaded = files.upload()\n",
    "\n",
    "# for fn in uploaded.keys():\n",
    "#   print('User uploaded file \"{name}\" with length {length} bytes'.format(\n",
    "#       name=fn, length=len(uploaded[fn])))\n",
    "  \n",
    "\n",
    "# ## load csv as df\n",
    "# if len(uploaded) == 1:\n",
    "#     df = pd.read_csv(list(uploaded.keys())[0])\n",
    "#     # display(df.head(2))\n",
    "# else:\n",
    "#     raise Exception('Uploading multiple csvs is not currently built into workflow.')\n"
   ]
  },
  {
   "cell_type": "code",
   "execution_count": 3,
   "metadata": {
    "ExecuteTime": {
     "end_time": "2021-10-25T15:39:35.500969Z",
     "start_time": "2021-10-25T15:39:35.457839Z"
    }
   },
   "outputs": [
    {
     "name": "stdout",
     "output_type": "stream",
     "text": [
      "[i] Loaded file: /Users/jamesirving/Downloads/Student Milestones 2021-10-25T1135.csv\n"
     ]
    },
    {
     "data": {
      "text/html": [
       "<div>\n",
       "<style scoped>\n",
       "    .dataframe tbody tr th:only-of-type {\n",
       "        vertical-align: middle;\n",
       "    }\n",
       "\n",
       "    .dataframe tbody tr th {\n",
       "        vertical-align: top;\n",
       "    }\n",
       "\n",
       "    .dataframe thead th {\n",
       "        text-align: right;\n",
       "    }\n",
       "</style>\n",
       "<table border=\"1\" class=\"dataframe\">\n",
       "  <thead>\n",
       "    <tr style=\"text-align: right;\">\n",
       "      <th></th>\n",
       "      <th>Instructor</th>\n",
       "      <th>Learn UUID</th>\n",
       "      <th>Full Name</th>\n",
       "      <th>First Name</th>\n",
       "      <th>Last Name</th>\n",
       "      <th>Ordinality</th>\n",
       "      <th>Milestone Name</th>\n",
       "      <th>Due Date</th>\n",
       "      <th>Completed Date</th>\n",
       "      <th>Milestone on Timeness</th>\n",
       "      <th>Current Pacing In Weeks</th>\n",
       "      <th>Most Recent Cohort Start Date</th>\n",
       "      <th>Last Milestone Completed</th>\n",
       "      <th>Last Milestone Completed Date</th>\n",
       "      <th>Timeliness of Last Completed Milestone</th>\n",
       "    </tr>\n",
       "  </thead>\n",
       "  <tbody>\n",
       "    <tr>\n",
       "      <th>0</th>\n",
       "      <td>James Irving</td>\n",
       "      <td>f7734eb5-4486-4402-b600-7a567504a56d</td>\n",
       "      <td>Alec Hing</td>\n",
       "      <td>Alec</td>\n",
       "      <td>Hing</td>\n",
       "      <td>1</td>\n",
       "      <td>Topic 3: Data Serialization Formats - Cumulati...</td>\n",
       "      <td>2021-09-07</td>\n",
       "      <td>2021-09-13</td>\n",
       "      <td>6 days behind schedule</td>\n",
       "      <td>40</td>\n",
       "      <td>2021-08-30</td>\n",
       "      <td>Topic 3: Data Serialization Formats - Cumulati...</td>\n",
       "      <td>2021-09-13 23:43:48</td>\n",
       "      <td>6 days behind schedule</td>\n",
       "    </tr>\n",
       "    <tr>\n",
       "      <th>1</th>\n",
       "      <td>James Irving</td>\n",
       "      <td>f7734eb5-4486-4402-b600-7a567504a56d</td>\n",
       "      <td>Alec Hing</td>\n",
       "      <td>Alec</td>\n",
       "      <td>Hing</td>\n",
       "      <td>2</td>\n",
       "      <td>Topic 4: EDA with Pandas - Cumulative Lab</td>\n",
       "      <td>2021-09-17</td>\n",
       "      <td>2021-09-23</td>\n",
       "      <td>6 days behind schedule</td>\n",
       "      <td>40</td>\n",
       "      <td>2021-08-30</td>\n",
       "      <td>Topic 4: EDA with Pandas - Cumulative Lab</td>\n",
       "      <td>2021-09-23 22:34:36</td>\n",
       "      <td>6 days behind schedule</td>\n",
       "    </tr>\n",
       "    <tr>\n",
       "      <th>2</th>\n",
       "      <td>James Irving</td>\n",
       "      <td>f7734eb5-4486-4402-b600-7a567504a56d</td>\n",
       "      <td>Alec Hing</td>\n",
       "      <td>Alec</td>\n",
       "      <td>Hing</td>\n",
       "      <td>3</td>\n",
       "      <td>Topic 5: Pandas Data Cleaning - Cumulative Lab</td>\n",
       "      <td>2021-09-21</td>\n",
       "      <td>2021-10-04</td>\n",
       "      <td>13 days behind schedule</td>\n",
       "      <td>40</td>\n",
       "      <td>2021-08-30</td>\n",
       "      <td>Topic 5: Pandas Data Cleaning - Cumulative Lab</td>\n",
       "      <td>2021-10-04 12:54:22</td>\n",
       "      <td>13 days behind schedule</td>\n",
       "    </tr>\n",
       "    <tr>\n",
       "      <th>3</th>\n",
       "      <td>James Irving</td>\n",
       "      <td>f7734eb5-4486-4402-b600-7a567504a56d</td>\n",
       "      <td>Alec Hing</td>\n",
       "      <td>Alec</td>\n",
       "      <td>Hing</td>\n",
       "      <td>4</td>\n",
       "      <td>Topic 7: SQL - Cumulative Lab</td>\n",
       "      <td>2021-09-29</td>\n",
       "      <td>2021-10-11</td>\n",
       "      <td>12 days behind schedule</td>\n",
       "      <td>40</td>\n",
       "      <td>2021-08-30</td>\n",
       "      <td>Topic 7: SQL - Cumulative Lab</td>\n",
       "      <td>2021-10-11 23:02:44</td>\n",
       "      <td>12 days behind schedule</td>\n",
       "    </tr>\n",
       "    <tr>\n",
       "      <th>4</th>\n",
       "      <td>James Irving</td>\n",
       "      <td>f7734eb5-4486-4402-b600-7a567504a56d</td>\n",
       "      <td>Alec Hing</td>\n",
       "      <td>Alec</td>\n",
       "      <td>Hing</td>\n",
       "      <td>5</td>\n",
       "      <td>Topic 9: APIs - Cumulative Lab</td>\n",
       "      <td>2021-10-03</td>\n",
       "      <td>2021-10-13</td>\n",
       "      <td>10 days behind schedule</td>\n",
       "      <td>40</td>\n",
       "      <td>2021-08-30</td>\n",
       "      <td>Topic 9: APIs - Cumulative Lab</td>\n",
       "      <td>2021-10-13 23:08:35</td>\n",
       "      <td>10 days behind schedule</td>\n",
       "    </tr>\n",
       "    <tr>\n",
       "      <th>...</th>\n",
       "      <td>...</td>\n",
       "      <td>...</td>\n",
       "      <td>...</td>\n",
       "      <td>...</td>\n",
       "      <td>...</td>\n",
       "      <td>...</td>\n",
       "      <td>...</td>\n",
       "      <td>...</td>\n",
       "      <td>...</td>\n",
       "      <td>...</td>\n",
       "      <td>...</td>\n",
       "      <td>...</td>\n",
       "      <td>...</td>\n",
       "      <td>...</td>\n",
       "      <td>...</td>\n",
       "    </tr>\n",
       "    <tr>\n",
       "      <th>723</th>\n",
       "      <td>James Irving</td>\n",
       "      <td>175ad881-7589-4376-b7d7-600757d9b5f3</td>\n",
       "      <td>Simran Kaur</td>\n",
       "      <td>Simran</td>\n",
       "      <td>Kaur</td>\n",
       "      <td>24</td>\n",
       "      <td>Phase 4 Blog Post</td>\n",
       "      <td>2022-09-12</td>\n",
       "      <td>NaT</td>\n",
       "      <td>due in 322 days</td>\n",
       "      <td>60</td>\n",
       "      <td>2021-10-11</td>\n",
       "      <td>NaN</td>\n",
       "      <td>NaT</td>\n",
       "      <td>NaN</td>\n",
       "    </tr>\n",
       "    <tr>\n",
       "      <th>724</th>\n",
       "      <td>James Irving</td>\n",
       "      <td>175ad881-7589-4376-b7d7-600757d9b5f3</td>\n",
       "      <td>Simran Kaur</td>\n",
       "      <td>Simran</td>\n",
       "      <td>Kaur</td>\n",
       "      <td>25</td>\n",
       "      <td>Capstone Topic Decision and Data Gathering Dea...</td>\n",
       "      <td>2022-10-06</td>\n",
       "      <td>NaT</td>\n",
       "      <td>due in 346 days</td>\n",
       "      <td>60</td>\n",
       "      <td>2021-10-11</td>\n",
       "      <td>NaN</td>\n",
       "      <td>NaT</td>\n",
       "      <td>NaN</td>\n",
       "    </tr>\n",
       "    <tr>\n",
       "      <th>725</th>\n",
       "      <td>James Irving</td>\n",
       "      <td>175ad881-7589-4376-b7d7-600757d9b5f3</td>\n",
       "      <td>Simran Kaur</td>\n",
       "      <td>Simran</td>\n",
       "      <td>Kaur</td>\n",
       "      <td>26</td>\n",
       "      <td>Capstone MVP Deadline</td>\n",
       "      <td>2022-10-27</td>\n",
       "      <td>NaT</td>\n",
       "      <td>due in 367 days</td>\n",
       "      <td>60</td>\n",
       "      <td>2021-10-11</td>\n",
       "      <td>NaN</td>\n",
       "      <td>NaT</td>\n",
       "      <td>NaN</td>\n",
       "    </tr>\n",
       "    <tr>\n",
       "      <th>726</th>\n",
       "      <td>James Irving</td>\n",
       "      <td>175ad881-7589-4376-b7d7-600757d9b5f3</td>\n",
       "      <td>Simran Kaur</td>\n",
       "      <td>Simran</td>\n",
       "      <td>Kaur</td>\n",
       "      <td>27</td>\n",
       "      <td>Capstone Project Review</td>\n",
       "      <td>2022-11-29</td>\n",
       "      <td>NaT</td>\n",
       "      <td>due in 400 days</td>\n",
       "      <td>60</td>\n",
       "      <td>2021-10-11</td>\n",
       "      <td>NaN</td>\n",
       "      <td>NaT</td>\n",
       "      <td>NaN</td>\n",
       "    </tr>\n",
       "    <tr>\n",
       "      <th>727</th>\n",
       "      <td>James Irving</td>\n",
       "      <td>175ad881-7589-4376-b7d7-600757d9b5f3</td>\n",
       "      <td>Simran Kaur</td>\n",
       "      <td>Simran</td>\n",
       "      <td>Kaur</td>\n",
       "      <td>28</td>\n",
       "      <td>Final Capstone Deadline</td>\n",
       "      <td>2022-12-05</td>\n",
       "      <td>NaT</td>\n",
       "      <td>due in 406 days</td>\n",
       "      <td>60</td>\n",
       "      <td>2021-10-11</td>\n",
       "      <td>NaN</td>\n",
       "      <td>NaT</td>\n",
       "      <td>NaN</td>\n",
       "    </tr>\n",
       "  </tbody>\n",
       "</table>\n",
       "<p>728 rows × 15 columns</p>\n",
       "</div>"
      ],
      "text/plain": [
       "       Instructor                            Learn UUID    Full Name  \\\n",
       "0    James Irving  f7734eb5-4486-4402-b600-7a567504a56d    Alec Hing   \n",
       "1    James Irving  f7734eb5-4486-4402-b600-7a567504a56d    Alec Hing   \n",
       "2    James Irving  f7734eb5-4486-4402-b600-7a567504a56d    Alec Hing   \n",
       "3    James Irving  f7734eb5-4486-4402-b600-7a567504a56d    Alec Hing   \n",
       "4    James Irving  f7734eb5-4486-4402-b600-7a567504a56d    Alec Hing   \n",
       "..            ...                                   ...          ...   \n",
       "723  James Irving  175ad881-7589-4376-b7d7-600757d9b5f3  Simran Kaur   \n",
       "724  James Irving  175ad881-7589-4376-b7d7-600757d9b5f3  Simran Kaur   \n",
       "725  James Irving  175ad881-7589-4376-b7d7-600757d9b5f3  Simran Kaur   \n",
       "726  James Irving  175ad881-7589-4376-b7d7-600757d9b5f3  Simran Kaur   \n",
       "727  James Irving  175ad881-7589-4376-b7d7-600757d9b5f3  Simran Kaur   \n",
       "\n",
       "    First Name Last Name  Ordinality  \\\n",
       "0         Alec      Hing           1   \n",
       "1         Alec      Hing           2   \n",
       "2         Alec      Hing           3   \n",
       "3         Alec      Hing           4   \n",
       "4         Alec      Hing           5   \n",
       "..         ...       ...         ...   \n",
       "723     Simran      Kaur          24   \n",
       "724     Simran      Kaur          25   \n",
       "725     Simran      Kaur          26   \n",
       "726     Simran      Kaur          27   \n",
       "727     Simran      Kaur          28   \n",
       "\n",
       "                                        Milestone Name   Due Date  \\\n",
       "0    Topic 3: Data Serialization Formats - Cumulati... 2021-09-07   \n",
       "1            Topic 4: EDA with Pandas - Cumulative Lab 2021-09-17   \n",
       "2       Topic 5: Pandas Data Cleaning - Cumulative Lab 2021-09-21   \n",
       "3                        Topic 7: SQL - Cumulative Lab 2021-09-29   \n",
       "4                       Topic 9: APIs - Cumulative Lab 2021-10-03   \n",
       "..                                                 ...        ...   \n",
       "723                                  Phase 4 Blog Post 2022-09-12   \n",
       "724  Capstone Topic Decision and Data Gathering Dea... 2022-10-06   \n",
       "725                              Capstone MVP Deadline 2022-10-27   \n",
       "726                            Capstone Project Review 2022-11-29   \n",
       "727                            Final Capstone Deadline 2022-12-05   \n",
       "\n",
       "    Completed Date    Milestone on Timeness  Current Pacing In Weeks  \\\n",
       "0       2021-09-13   6 days behind schedule                       40   \n",
       "1       2021-09-23   6 days behind schedule                       40   \n",
       "2       2021-10-04  13 days behind schedule                       40   \n",
       "3       2021-10-11  12 days behind schedule                       40   \n",
       "4       2021-10-13  10 days behind schedule                       40   \n",
       "..             ...                      ...                      ...   \n",
       "723            NaT          due in 322 days                       60   \n",
       "724            NaT          due in 346 days                       60   \n",
       "725            NaT          due in 367 days                       60   \n",
       "726            NaT          due in 400 days                       60   \n",
       "727            NaT          due in 406 days                       60   \n",
       "\n",
       "    Most Recent Cohort Start Date  \\\n",
       "0                      2021-08-30   \n",
       "1                      2021-08-30   \n",
       "2                      2021-08-30   \n",
       "3                      2021-08-30   \n",
       "4                      2021-08-30   \n",
       "..                            ...   \n",
       "723                    2021-10-11   \n",
       "724                    2021-10-11   \n",
       "725                    2021-10-11   \n",
       "726                    2021-10-11   \n",
       "727                    2021-10-11   \n",
       "\n",
       "                              Last Milestone Completed  \\\n",
       "0    Topic 3: Data Serialization Formats - Cumulati...   \n",
       "1            Topic 4: EDA with Pandas - Cumulative Lab   \n",
       "2       Topic 5: Pandas Data Cleaning - Cumulative Lab   \n",
       "3                        Topic 7: SQL - Cumulative Lab   \n",
       "4                       Topic 9: APIs - Cumulative Lab   \n",
       "..                                                 ...   \n",
       "723                                                NaN   \n",
       "724                                                NaN   \n",
       "725                                                NaN   \n",
       "726                                                NaN   \n",
       "727                                                NaN   \n",
       "\n",
       "    Last Milestone Completed Date Timeliness of Last Completed Milestone  \n",
       "0             2021-09-13 23:43:48                 6 days behind schedule  \n",
       "1             2021-09-23 22:34:36                 6 days behind schedule  \n",
       "2             2021-10-04 12:54:22                13 days behind schedule  \n",
       "3             2021-10-11 23:02:44                12 days behind schedule  \n",
       "4             2021-10-13 23:08:35                10 days behind schedule  \n",
       "..                            ...                                    ...  \n",
       "723                           NaT                                    NaN  \n",
       "724                           NaT                                    NaN  \n",
       "725                           NaT                                    NaN  \n",
       "726                           NaT                                    NaN  \n",
       "727                           NaT                                    NaN  \n",
       "\n",
       "[728 rows x 15 columns]"
      ]
     },
     "execution_count": 3,
     "metadata": {},
     "output_type": "execute_result"
    }
   ],
   "source": [
    "df = pd.read_csv(files[-1])\n",
    "print(f'[i] Loaded file: {files[-1]}')\n",
    "\n",
    "## Clean up the column names \n",
    "base_header = \"Base - Milestones and Paces\"\n",
    "df.columns = [c.replace('[Students] ','').replace(base_header,'').strip() for c in df.columns]\n",
    "\n",
    "## convert to datetime\n",
    "date_cols = ['Due Date','Completed Date',\n",
    "             'Last Milestone Completed Date',\n",
    "            'Most Recent Cohort Start Date']\n",
    "\n",
    "for col in date_cols:\n",
    "    try:\n",
    "        df[col] = pd.to_datetime(df[col])\n",
    "    except:\n",
    "        print(f\"[!] {col} not found\")\n",
    "df"
   ]
  },
  {
   "cell_type": "markdown",
   "metadata": {},
   "source": [
    "# Selecting Students"
   ]
  },
  {
   "cell_type": "code",
   "execution_count": 4,
   "metadata": {
    "ExecuteTime": {
     "end_time": "2021-10-25T15:39:35.518011Z",
     "start_time": "2021-10-25T15:39:35.505488Z"
    }
   },
   "outputs": [
    {
     "data": {
      "text/plain": [
       "Full Name\n",
       "Alexander Casey         2021-07-19\n",
       "Austin Towery           2021-07-19\n",
       "Colm yeh                2021-07-19\n",
       "Daniel Ross-Leutwyler   2021-07-19\n",
       "Jim Petoskey            2021-08-09\n",
       "Robert Cauvy            2021-08-09\n",
       "Morgan Didjurgis        2021-08-09\n",
       "Kregg Jackson           2021-08-09\n",
       "Donica Miller           2021-08-09\n",
       "Ferdinand Beaman        2021-08-09\n",
       "Freddy Abrahamson       2021-08-09\n",
       "James Pheby             2021-08-09\n",
       "Samuel Oliver           2021-08-09\n",
       "Alec Hing               2021-08-30\n",
       "Claudia Tsai            2021-08-30\n",
       "Andrew Martinez         2021-08-30\n",
       "Alex Liang              2021-08-30\n",
       "Louis Casanave          2021-09-20\n",
       "Matthew Noonan          2021-09-20\n",
       "Nick Winokur            2021-09-20\n",
       "Noor Syed               2021-09-20\n",
       "Kevin Culver            2021-09-20\n",
       "Maliha Momtaj           2021-10-11\n",
       "Monique Hercules        2021-10-11\n",
       "Ryan Sajac              2021-10-11\n",
       "Simran Kaur             2021-10-11\n",
       "Name: Most Recent Cohort Start Date, dtype: datetime64[ns]"
      ]
     },
     "execution_count": 4,
     "metadata": {},
     "output_type": "execute_result"
    }
   ],
   "source": [
    "## get students by start date\n",
    "student_starts = df.groupby('Full Name').last()['Most Recent Cohort Start Date']\n",
    "student_starts.sort_values()"
   ]
  },
  {
   "cell_type": "code",
   "execution_count": 1,
   "metadata": {
    "ExecuteTime": {
     "end_time": "2021-10-25T18:27:42.313480Z",
     "start_time": "2021-10-25T18:27:42.220957Z"
    }
   },
   "outputs": [
    {
     "ename": "NameError",
     "evalue": "name 'student_starts' is not defined",
     "output_type": "error",
     "traceback": [
      "\u001b[0;31m---------------------------------------------------------------------------\u001b[0m",
      "\u001b[0;31mNameError\u001b[0m                                 Traceback (most recent call last)",
      "\u001b[0;32m<ipython-input-1-380b082b76bf>\u001b[0m in \u001b[0;36m<module>\u001b[0;34m\u001b[0m\n\u001b[1;32m      1\u001b[0m \u001b[0;31m# all start dates present\u001b[0m\u001b[0;34m\u001b[0m\u001b[0;34m\u001b[0m\u001b[0;34m\u001b[0m\u001b[0m\n\u001b[0;32m----> 2\u001b[0;31m \u001b[0mstart_dates_unique\u001b[0m \u001b[0;34m=\u001b[0m \u001b[0mstudent_starts\u001b[0m\u001b[0;34m.\u001b[0m\u001b[0mdt\u001b[0m\u001b[0;34m.\u001b[0m\u001b[0mstrftime\u001b[0m\u001b[0;34m(\u001b[0m\u001b[0;34m'%m-%d-%Y'\u001b[0m\u001b[0;34m)\u001b[0m\u001b[0;34m.\u001b[0m\u001b[0munique\u001b[0m\u001b[0;34m(\u001b[0m\u001b[0;34m)\u001b[0m\u001b[0;34m\u001b[0m\u001b[0;34m\u001b[0m\u001b[0m\n\u001b[0m\u001b[1;32m      3\u001b[0m \u001b[0mstart_dates_unique\u001b[0m\u001b[0;34m\u001b[0m\u001b[0;34m\u001b[0m\u001b[0m\n",
      "\u001b[0;31mNameError\u001b[0m: name 'student_starts' is not defined"
     ]
    }
   ],
   "source": [
    "# all start dates present\n",
    "start_dates_unique = student_starts.dt.strftime('%m-%d-%Y').unique()\n",
    "start_dates_unique"
   ]
  },
  {
   "cell_type": "markdown",
   "metadata": {},
   "source": [
    "### Filter by Start"
   ]
  },
  {
   "cell_type": "code",
   "execution_count": 6,
   "metadata": {
    "ExecuteTime": {
     "end_time": "2021-10-25T15:39:35.534021Z",
     "start_time": "2021-10-25T15:39:35.526605Z"
    }
   },
   "outputs": [
    {
     "data": {
      "text/plain": [
       "Index(['Donica Miller', 'Ferdinand Beaman', 'Freddy Abrahamson', 'James Pheby',\n",
       "       'Jim Petoskey', 'Kregg Jackson', 'Morgan Didjurgis', 'Robert Cauvy',\n",
       "       'Samuel Oliver'],\n",
       "      dtype='object', name='Full Name')"
      ]
     },
     "execution_count": 6,
     "metadata": {},
     "output_type": "execute_result"
    }
   ],
   "source": [
    "## Use this cell to determine the subset of students to process\n",
    "# START_DATES_TO_USE = ['08-09-2021']\n",
    "START_DATES_TO_USE = start_dates_unique\n",
    "\n",
    "# students_to_msg = list(df['Full Name'].unique())\n",
    "students_to_msg = student_starts[student_starts.isin(START_DATES_TO_USE)].index\n",
    "students_to_msg"
   ]
  },
  {
   "cell_type": "markdown",
   "metadata": {},
   "source": [
    "### Filter by Pace"
   ]
  },
  {
   "cell_type": "code",
   "execution_count": 7,
   "metadata": {
    "ExecuteTime": {
     "end_time": "2021-10-25T15:39:35.538786Z",
     "start_time": "2021-10-25T15:39:35.536145Z"
    },
    "colab": {
     "base_uri": "https://localhost:8080/"
    },
    "id": "WLMcp4j9yamN",
    "outputId": "915204b3-c0c9-4aac-d62f-5edf9a5b9b1f"
   },
   "outputs": [],
   "source": [
    "# ## Student Names in dataset\n",
    "# students_included = list(df['Full Name'].unique())\n",
    "\n",
    "# ## Save list of student_paces to use to select students to \n",
    "# student_paces = df.groupby('Full Name').last()['Current Pacing In Weeks']\n",
    "# # student_paces\n",
    "# student_paces#.head(5)"
   ]
  },
  {
   "cell_type": "code",
   "execution_count": 8,
   "metadata": {
    "ExecuteTime": {
     "end_time": "2021-10-25T15:39:35.544602Z",
     "start_time": "2021-10-25T15:39:35.542874Z"
    },
    "colab": {
     "base_uri": "https://localhost:8080/"
    },
    "id": "03xZA7VmqJjp",
    "outputId": "8a3d5e93-b4cd-40b4-c88e-8e9617fea190"
   },
   "outputs": [],
   "source": [
    "# ## Use this cell to determine the subset of students to process\n",
    "# PACES_TO_USE = [20,40,60]\n",
    "\n",
    "# # students_to_msg = list(df['Full Name'].unique())\n",
    "# students_to_msg = student_paces[student_paces.isin(PACES_TO_USE)].index\n",
    "# students_to_msg"
   ]
  },
  {
   "cell_type": "markdown",
   "metadata": {
    "id": "xNau4YLQucyX"
   },
   "source": [
    "## Producing Reports/Messages for Selected Students."
   ]
  },
  {
   "cell_type": "markdown",
   "metadata": {
    "id": "Ug0vI_guGDjl"
   },
   "source": [
    "### Interactive Dropdown"
   ]
  },
  {
   "cell_type": "code",
   "execution_count": 9,
   "metadata": {
    "ExecuteTime": {
     "end_time": "2021-10-25T15:39:41.937817Z",
     "start_time": "2021-10-25T15:39:41.934317Z"
    },
    "colab": {
     "base_uri": "https://localhost:8080/"
    },
    "id": "xNf8jXEUIEX_",
    "outputId": "6f6ea3b3-397f-4a0c-d9ba-6faf4546b0ca"
   },
   "outputs": [
    {
     "data": {
      "text/plain": [
       "Index(['Donica Miller', 'Ferdinand Beaman', 'Freddy Abrahamson', 'James Pheby',\n",
       "       'Jim Petoskey', 'Kregg Jackson', 'Morgan Didjurgis', 'Robert Cauvy',\n",
       "       'Samuel Oliver'],\n",
       "      dtype='object', name='Full Name')"
      ]
     },
     "execution_count": 9,
     "metadata": {},
     "output_type": "execute_result"
    }
   ],
   "source": [
    "students_to_msg"
   ]
  },
  {
   "cell_type": "code",
   "execution_count": 11,
   "metadata": {
    "ExecuteTime": {
     "end_time": "2021-10-25T15:40:36.634371Z",
     "start_time": "2021-10-25T15:40:36.612889Z"
    }
   },
   "outputs": [
    {
     "data": {
      "text/html": [
       "<div>\n",
       "<style scoped>\n",
       "    .dataframe tbody tr th:only-of-type {\n",
       "        vertical-align: middle;\n",
       "    }\n",
       "\n",
       "    .dataframe tbody tr th {\n",
       "        vertical-align: top;\n",
       "    }\n",
       "\n",
       "    .dataframe thead th {\n",
       "        text-align: right;\n",
       "    }\n",
       "</style>\n",
       "<table border=\"1\" class=\"dataframe\">\n",
       "  <thead>\n",
       "    <tr style=\"text-align: right;\">\n",
       "      <th></th>\n",
       "      <th>Instructor</th>\n",
       "      <th>Learn UUID</th>\n",
       "      <th>Full Name</th>\n",
       "      <th>First Name</th>\n",
       "      <th>Last Name</th>\n",
       "      <th>Ordinality</th>\n",
       "      <th>Milestone Name</th>\n",
       "      <th>Due Date</th>\n",
       "      <th>Completed Date</th>\n",
       "      <th>Milestone on Timeness</th>\n",
       "      <th>Current Pacing In Weeks</th>\n",
       "      <th>Last Milestone Completed</th>\n",
       "      <th>Last Milestone Completed Date</th>\n",
       "      <th>Timeliness of Last Completed Milestone</th>\n",
       "    </tr>\n",
       "  </thead>\n",
       "  <tbody>\n",
       "    <tr>\n",
       "      <th>0</th>\n",
       "      <td>James Irving</td>\n",
       "      <td>f7734eb5-4486-4402-b600-7a567504a56d</td>\n",
       "      <td>Alec Hing</td>\n",
       "      <td>Alec</td>\n",
       "      <td>Hing</td>\n",
       "      <td>1</td>\n",
       "      <td>Topic 3: Data Serialization Formats - Cumulati...</td>\n",
       "      <td>2021-09-07</td>\n",
       "      <td>2021-09-13</td>\n",
       "      <td>6 days behind schedule</td>\n",
       "      <td>40</td>\n",
       "      <td>Topic 3: Data Serialization Formats - Cumulati...</td>\n",
       "      <td>2021-09-13 23:43:48</td>\n",
       "      <td>6 days behind schedule</td>\n",
       "    </tr>\n",
       "    <tr>\n",
       "      <th>1</th>\n",
       "      <td>James Irving</td>\n",
       "      <td>f7734eb5-4486-4402-b600-7a567504a56d</td>\n",
       "      <td>Alec Hing</td>\n",
       "      <td>Alec</td>\n",
       "      <td>Hing</td>\n",
       "      <td>2</td>\n",
       "      <td>Topic 4: EDA with Pandas - Cumulative Lab</td>\n",
       "      <td>2021-09-17</td>\n",
       "      <td>2021-09-23</td>\n",
       "      <td>6 days behind schedule</td>\n",
       "      <td>40</td>\n",
       "      <td>Topic 4: EDA with Pandas - Cumulative Lab</td>\n",
       "      <td>2021-09-23 22:34:36</td>\n",
       "      <td>6 days behind schedule</td>\n",
       "    </tr>\n",
       "    <tr>\n",
       "      <th>2</th>\n",
       "      <td>James Irving</td>\n",
       "      <td>f7734eb5-4486-4402-b600-7a567504a56d</td>\n",
       "      <td>Alec Hing</td>\n",
       "      <td>Alec</td>\n",
       "      <td>Hing</td>\n",
       "      <td>3</td>\n",
       "      <td>Topic 5: Pandas Data Cleaning - Cumulative Lab</td>\n",
       "      <td>2021-09-21</td>\n",
       "      <td>2021-10-04</td>\n",
       "      <td>13 days behind schedule</td>\n",
       "      <td>40</td>\n",
       "      <td>Topic 5: Pandas Data Cleaning - Cumulative Lab</td>\n",
       "      <td>2021-10-04 12:54:22</td>\n",
       "      <td>13 days behind schedule</td>\n",
       "    </tr>\n",
       "    <tr>\n",
       "      <th>3</th>\n",
       "      <td>James Irving</td>\n",
       "      <td>f7734eb5-4486-4402-b600-7a567504a56d</td>\n",
       "      <td>Alec Hing</td>\n",
       "      <td>Alec</td>\n",
       "      <td>Hing</td>\n",
       "      <td>4</td>\n",
       "      <td>Topic 7: SQL - Cumulative Lab</td>\n",
       "      <td>2021-09-29</td>\n",
       "      <td>2021-10-11</td>\n",
       "      <td>12 days behind schedule</td>\n",
       "      <td>40</td>\n",
       "      <td>Topic 7: SQL - Cumulative Lab</td>\n",
       "      <td>2021-10-11 23:02:44</td>\n",
       "      <td>12 days behind schedule</td>\n",
       "    </tr>\n",
       "    <tr>\n",
       "      <th>4</th>\n",
       "      <td>James Irving</td>\n",
       "      <td>f7734eb5-4486-4402-b600-7a567504a56d</td>\n",
       "      <td>Alec Hing</td>\n",
       "      <td>Alec</td>\n",
       "      <td>Hing</td>\n",
       "      <td>5</td>\n",
       "      <td>Topic 9: APIs - Cumulative Lab</td>\n",
       "      <td>2021-10-03</td>\n",
       "      <td>2021-10-13</td>\n",
       "      <td>10 days behind schedule</td>\n",
       "      <td>40</td>\n",
       "      <td>Topic 9: APIs - Cumulative Lab</td>\n",
       "      <td>2021-10-13 23:08:35</td>\n",
       "      <td>10 days behind schedule</td>\n",
       "    </tr>\n",
       "    <tr>\n",
       "      <th>...</th>\n",
       "      <td>...</td>\n",
       "      <td>...</td>\n",
       "      <td>...</td>\n",
       "      <td>...</td>\n",
       "      <td>...</td>\n",
       "      <td>...</td>\n",
       "      <td>...</td>\n",
       "      <td>...</td>\n",
       "      <td>...</td>\n",
       "      <td>...</td>\n",
       "      <td>...</td>\n",
       "      <td>...</td>\n",
       "      <td>...</td>\n",
       "      <td>...</td>\n",
       "    </tr>\n",
       "    <tr>\n",
       "      <th>723</th>\n",
       "      <td>James Irving</td>\n",
       "      <td>175ad881-7589-4376-b7d7-600757d9b5f3</td>\n",
       "      <td>Simran Kaur</td>\n",
       "      <td>Simran</td>\n",
       "      <td>Kaur</td>\n",
       "      <td>24</td>\n",
       "      <td>Phase 4 Blog Post</td>\n",
       "      <td>2022-09-12</td>\n",
       "      <td>NaT</td>\n",
       "      <td>due in 322 days</td>\n",
       "      <td>60</td>\n",
       "      <td>NaN</td>\n",
       "      <td>NaT</td>\n",
       "      <td>NaN</td>\n",
       "    </tr>\n",
       "    <tr>\n",
       "      <th>724</th>\n",
       "      <td>James Irving</td>\n",
       "      <td>175ad881-7589-4376-b7d7-600757d9b5f3</td>\n",
       "      <td>Simran Kaur</td>\n",
       "      <td>Simran</td>\n",
       "      <td>Kaur</td>\n",
       "      <td>25</td>\n",
       "      <td>Capstone Topic Decision and Data Gathering Dea...</td>\n",
       "      <td>2022-10-06</td>\n",
       "      <td>NaT</td>\n",
       "      <td>due in 346 days</td>\n",
       "      <td>60</td>\n",
       "      <td>NaN</td>\n",
       "      <td>NaT</td>\n",
       "      <td>NaN</td>\n",
       "    </tr>\n",
       "    <tr>\n",
       "      <th>725</th>\n",
       "      <td>James Irving</td>\n",
       "      <td>175ad881-7589-4376-b7d7-600757d9b5f3</td>\n",
       "      <td>Simran Kaur</td>\n",
       "      <td>Simran</td>\n",
       "      <td>Kaur</td>\n",
       "      <td>26</td>\n",
       "      <td>Capstone MVP Deadline</td>\n",
       "      <td>2022-10-27</td>\n",
       "      <td>NaT</td>\n",
       "      <td>due in 367 days</td>\n",
       "      <td>60</td>\n",
       "      <td>NaN</td>\n",
       "      <td>NaT</td>\n",
       "      <td>NaN</td>\n",
       "    </tr>\n",
       "    <tr>\n",
       "      <th>726</th>\n",
       "      <td>James Irving</td>\n",
       "      <td>175ad881-7589-4376-b7d7-600757d9b5f3</td>\n",
       "      <td>Simran Kaur</td>\n",
       "      <td>Simran</td>\n",
       "      <td>Kaur</td>\n",
       "      <td>27</td>\n",
       "      <td>Capstone Project Review</td>\n",
       "      <td>2022-11-29</td>\n",
       "      <td>NaT</td>\n",
       "      <td>due in 400 days</td>\n",
       "      <td>60</td>\n",
       "      <td>NaN</td>\n",
       "      <td>NaT</td>\n",
       "      <td>NaN</td>\n",
       "    </tr>\n",
       "    <tr>\n",
       "      <th>727</th>\n",
       "      <td>James Irving</td>\n",
       "      <td>175ad881-7589-4376-b7d7-600757d9b5f3</td>\n",
       "      <td>Simran Kaur</td>\n",
       "      <td>Simran</td>\n",
       "      <td>Kaur</td>\n",
       "      <td>28</td>\n",
       "      <td>Final Capstone Deadline</td>\n",
       "      <td>2022-12-05</td>\n",
       "      <td>NaT</td>\n",
       "      <td>due in 406 days</td>\n",
       "      <td>60</td>\n",
       "      <td>NaN</td>\n",
       "      <td>NaT</td>\n",
       "      <td>NaN</td>\n",
       "    </tr>\n",
       "  </tbody>\n",
       "</table>\n",
       "<p>728 rows × 14 columns</p>\n",
       "</div>"
      ],
      "text/plain": [
       "       Instructor                            Learn UUID    Full Name  \\\n",
       "0    James Irving  f7734eb5-4486-4402-b600-7a567504a56d    Alec Hing   \n",
       "1    James Irving  f7734eb5-4486-4402-b600-7a567504a56d    Alec Hing   \n",
       "2    James Irving  f7734eb5-4486-4402-b600-7a567504a56d    Alec Hing   \n",
       "3    James Irving  f7734eb5-4486-4402-b600-7a567504a56d    Alec Hing   \n",
       "4    James Irving  f7734eb5-4486-4402-b600-7a567504a56d    Alec Hing   \n",
       "..            ...                                   ...          ...   \n",
       "723  James Irving  175ad881-7589-4376-b7d7-600757d9b5f3  Simran Kaur   \n",
       "724  James Irving  175ad881-7589-4376-b7d7-600757d9b5f3  Simran Kaur   \n",
       "725  James Irving  175ad881-7589-4376-b7d7-600757d9b5f3  Simran Kaur   \n",
       "726  James Irving  175ad881-7589-4376-b7d7-600757d9b5f3  Simran Kaur   \n",
       "727  James Irving  175ad881-7589-4376-b7d7-600757d9b5f3  Simran Kaur   \n",
       "\n",
       "    First Name Last Name  Ordinality  \\\n",
       "0         Alec      Hing           1   \n",
       "1         Alec      Hing           2   \n",
       "2         Alec      Hing           3   \n",
       "3         Alec      Hing           4   \n",
       "4         Alec      Hing           5   \n",
       "..         ...       ...         ...   \n",
       "723     Simran      Kaur          24   \n",
       "724     Simran      Kaur          25   \n",
       "725     Simran      Kaur          26   \n",
       "726     Simran      Kaur          27   \n",
       "727     Simran      Kaur          28   \n",
       "\n",
       "                                        Milestone Name   Due Date  \\\n",
       "0    Topic 3: Data Serialization Formats - Cumulati... 2021-09-07   \n",
       "1            Topic 4: EDA with Pandas - Cumulative Lab 2021-09-17   \n",
       "2       Topic 5: Pandas Data Cleaning - Cumulative Lab 2021-09-21   \n",
       "3                        Topic 7: SQL - Cumulative Lab 2021-09-29   \n",
       "4                       Topic 9: APIs - Cumulative Lab 2021-10-03   \n",
       "..                                                 ...        ...   \n",
       "723                                  Phase 4 Blog Post 2022-09-12   \n",
       "724  Capstone Topic Decision and Data Gathering Dea... 2022-10-06   \n",
       "725                              Capstone MVP Deadline 2022-10-27   \n",
       "726                            Capstone Project Review 2022-11-29   \n",
       "727                            Final Capstone Deadline 2022-12-05   \n",
       "\n",
       "    Completed Date    Milestone on Timeness  Current Pacing In Weeks  \\\n",
       "0       2021-09-13   6 days behind schedule                       40   \n",
       "1       2021-09-23   6 days behind schedule                       40   \n",
       "2       2021-10-04  13 days behind schedule                       40   \n",
       "3       2021-10-11  12 days behind schedule                       40   \n",
       "4       2021-10-13  10 days behind schedule                       40   \n",
       "..             ...                      ...                      ...   \n",
       "723            NaT          due in 322 days                       60   \n",
       "724            NaT          due in 346 days                       60   \n",
       "725            NaT          due in 367 days                       60   \n",
       "726            NaT          due in 400 days                       60   \n",
       "727            NaT          due in 406 days                       60   \n",
       "\n",
       "                              Last Milestone Completed  \\\n",
       "0    Topic 3: Data Serialization Formats - Cumulati...   \n",
       "1            Topic 4: EDA with Pandas - Cumulative Lab   \n",
       "2       Topic 5: Pandas Data Cleaning - Cumulative Lab   \n",
       "3                        Topic 7: SQL - Cumulative Lab   \n",
       "4                       Topic 9: APIs - Cumulative Lab   \n",
       "..                                                 ...   \n",
       "723                                                NaN   \n",
       "724                                                NaN   \n",
       "725                                                NaN   \n",
       "726                                                NaN   \n",
       "727                                                NaN   \n",
       "\n",
       "    Last Milestone Completed Date Timeliness of Last Completed Milestone  \n",
       "0             2021-09-13 23:43:48                 6 days behind schedule  \n",
       "1             2021-09-23 22:34:36                 6 days behind schedule  \n",
       "2             2021-10-04 12:54:22                13 days behind schedule  \n",
       "3             2021-10-11 23:02:44                12 days behind schedule  \n",
       "4             2021-10-13 23:08:35                10 days behind schedule  \n",
       "..                            ...                                    ...  \n",
       "723                           NaT                                    NaN  \n",
       "724                           NaT                                    NaN  \n",
       "725                           NaT                                    NaN  \n",
       "726                           NaT                                    NaN  \n",
       "727                           NaT                                    NaN  \n",
       "\n",
       "[728 rows x 14 columns]"
      ]
     },
     "execution_count": 11,
     "metadata": {},
     "output_type": "execute_result"
    }
   ],
   "source": [
    "df_to_use = df.drop(columns=\"Most Recent Cohort Start Date\")\n",
    "df_to_use"
   ]
  },
  {
   "cell_type": "code",
   "execution_count": 12,
   "metadata": {
    "ExecuteTime": {
     "end_time": "2021-10-25T15:40:48.438915Z",
     "start_time": "2021-10-25T15:40:48.382309Z"
    },
    "colab": {
     "base_uri": "https://localhost:8080/",
     "height": 616,
     "referenced_widgets": [
      "22a87ffb6b02458ca58c46eea762af75",
      "f17c65349162421098a19ae7f44da049",
      "c3690836f1b545eb9b53d8b0eb583f64",
      "4261275f57a64cda8231da5634577d33",
      "165560388d64434bae3d9a03ae889fe6",
      "538fd5aa01594968aabb97952c5a4988",
      "09f9d79cbc5a4189b813484981d3486c"
     ]
    },
    "id": "qbMP34zigKFz",
    "outputId": "7ca1e8b0-5829-4ac8-8562-253f8e82345c"
   },
   "outputs": [
    {
     "data": {
      "application/vnd.jupyter.widget-view+json": {
       "model_id": "3ced31b388fe493b824c8da6eeb316d7",
       "version_major": 2,
       "version_minor": 0
      },
      "text/plain": [
       "interactive(children=(Dropdown(description='student', options=('Donica Miller', 'Ferdinand Beaman', 'Freddy Ab…"
      ]
     },
     "metadata": {},
     "output_type": "display_data"
    }
   ],
   "source": [
    "from ipywidgets import interact, interactive_output\n",
    "\n",
    "@interact\n",
    "def get_student_report_interactive(student = students_to_msg, just_milestones=True):\n",
    "\n",
    "    if just_milestones:\n",
    "            res = get_milestone_report(df_to_use, student)['milestones']\n",
    "            res = res.set_index(['Full Name','Milestone #'])\n",
    "            display(res.style.set_caption(student))\n",
    "    else:\n",
    "        generate_detailed_message(df_to_use,student,error=False)\n"
   ]
  },
  {
   "cell_type": "markdown",
   "metadata": {
    "id": "x0ppOzPpxxEU"
   },
   "source": [
    "## Looping through all students."
   ]
  },
  {
   "cell_type": "markdown",
   "metadata": {
    "id": "V_q8VRcQqu6k"
   },
   "source": [
    "- You can loop through your entire list of studnets, or create a subset of students.\n",
    "    - e.g. All 20 week studnets"
   ]
  },
  {
   "cell_type": "code",
   "execution_count": null,
   "metadata": {
    "id": "47ROFXBDs9L6"
   },
   "outputs": [],
   "source": [
    "## Process all students\n",
    "error = []\n",
    "for i,student in enumerate(students_to_msg):\n",
    "    generate_detailed_message(df,student,error=False)\n",
    "\n",
    "    try:\n",
    "        generate_detailed_message(df,student,error=True)\n",
    "\n",
    "    except:\n",
    "        print(f'\\n\\n[!] Problem with {student}\\n\\n')\n",
    "        error.append(student)\n",
    "        \n",
    "    finally:\n",
    "        print(f'\\t student # {i+1} / {len(students_to_msg)}')\n",
    "        print('\\n'*2)\n",
    "\n",
    "print(\"Students that error'd:\")\n",
    "[print(f'- {student}') for student in error];"
   ]
  },
  {
   "cell_type": "markdown",
   "metadata": {
    "id": "V04nVpTW5Wpu"
   },
   "source": [
    "# Extracting All Milestones for Every Student"
   ]
  },
  {
   "cell_type": "code",
   "execution_count": null,
   "metadata": {
    "colab": {
     "base_uri": "https://localhost:8080/"
    },
    "id": "c2jR1TZB5qbf",
    "outputId": "15f09be1-d199-4b9f-e9e8-e8c8031522a4"
   },
   "outputs": [],
   "source": [
    "## Use this cell to determine the subset of students to process\n",
    "PACES_TO_USE = [20,40,60]\n",
    "\n",
    "# students_to_msg = list(df['Full Name'].unique())\n",
    "students_to_msg = student_paces[student_paces.isin(PACES_TO_USE)].index\n",
    "students_to_msg"
   ]
  },
  {
   "cell_type": "code",
   "execution_count": null,
   "metadata": {
    "colab": {
     "base_uri": "https://localhost:8080/",
     "height": 1000
    },
    "id": "axvCFBur5b6Q",
    "outputId": "79d18fc3-bd70-4c2c-ee4d-57f1ebe67e2c"
   },
   "outputs": [],
   "source": [
    "MILESTONES = {}\n",
    "for student in students_to_msg:\n",
    "    res = get_milestone_report(df, student)['milestones']\n",
    "    MILESTONES[student] = res\n",
    "\n",
    "    display(res.style.set_caption(student))"
   ]
  },
  {
   "cell_type": "code",
   "execution_count": null,
   "metadata": {
    "id": "zIa5EgNQ6Ov-"
   },
   "outputs": [],
   "source": [
    "MILESTONES"
   ]
  },
  {
   "cell_type": "markdown",
   "metadata": {
    "id": "L8wntwxNCibY"
   },
   "source": [
    "# KNOWN ISSUES\n"
   ]
  },
  {
   "cell_type": "markdown",
   "metadata": {
    "id": "CCLAn6ddrjER"
   },
   "source": [
    "\n",
    "## INCORRECT DUE DATES FOR STUDENTS THAT CHANGED PACE"
   ]
  },
  {
   "cell_type": "markdown",
   "metadata": {
    "id": "Rlv07LkWCkUo"
   },
   "source": [
    "- Donica Miller's milestones on Looker do not match her [milestones on guide](https://guide.flatironschool.com/students/c94227c8-d3f8-4b90-bc68-f71fabb48454/milestones)\n",
    "- I think the column that doesn't match base/guide is the Completed Date column, but that the actual milestones completed is accurate. \n",
    "\n",
    ">- **After talking with Mtich Beeb, it seems to be something that is not actually stored in the system but that Mitch calculates.**\n",
    "- See the  [Curriculum Team's Milestones Guide](https://docs.google.com/document/d/1LsKzSCKSPL7jcnzZG1nmN70FFe7Ro7U79XJV71udbdU/edit?usp=sharing) for where to find the raw milestone data. \n",
    "    - milestones.flatironschool.com"
   ]
  },
  {
   "cell_type": "code",
   "execution_count": null,
   "metadata": {
    "id": "KbOrmXZC5VR2"
   },
   "outputs": [],
   "source": []
  },
  {
   "cell_type": "code",
   "execution_count": null,
   "metadata": {
    "colab": {
     "base_uri": "https://localhost:8080/",
     "height": 955
    },
    "id": "b2DMmpjvCkFv",
    "outputId": "06754075-0147-4047-ad45-a106810594a1"
   },
   "outputs": [],
   "source": [
    "res = get_milestone_report(df, 'Donica')['milestones']\n",
    "res"
   ]
  },
  {
   "cell_type": "markdown",
   "metadata": {
    "id": "buOuR3TEDLCu"
   },
   "source": [
    "- Copied from Guide ojn 09/27/21\n",
    "\n",
    "```\n",
    "Cohort Start: 8/9/2021\n",
    "\n",
    "Projected Completion: 5/30/2022\n",
    "\n",
    "Cohort Completion: 11/9/2022\n",
    "\n",
    "\n",
    "Data Science 40 Weeks\n",
    "Topic 3: ⭐️ Data Serialization Formats - Cumulative Lab\n",
    "Due: 8/13/2021\n",
    "\n",
    "Topic 4: ⭐️ EDA with Pandas - Cumulative Lab\n",
    "Due: 8/18/2021\n",
    "\n",
    "\n",
    "Topic 5: ⭐️ Pandas Data Cleaning - Cumulative Lab\n",
    "Due: 9/14/2021\n",
    "\n",
    "\n",
    "Topic 7: ⭐️ SQL - Cumulative Lab\n",
    "Due: 9/22/2021\n",
    "```"
   ]
  },
  {
   "cell_type": "code",
   "execution_count": null,
   "metadata": {
    "id": "L-obgCBdDK4b"
   },
   "outputs": [],
   "source": []
  },
  {
   "cell_type": "code",
   "execution_count": null,
   "metadata": {
    "id": "PPGXAXPZ9HiG"
   },
   "outputs": [],
   "source": [
    "# for i,row in df.iterrows():\n",
    "#     print('---'*20)\n",
    "    \n",
    "#     id = row[\"Learn UUID\"]\n",
    "#     mstone_url = f\"https://guide.flatironschool.com/students/{id}/milestones\"\n",
    "#     notes_url = f\"https://guide.flatironschool.com/students/{id}/notes\"\n",
    "\n",
    "#     print(row['First Name'] + \" \" + row[\"Last Name\"])\n",
    "#     print(notes_url)\n",
    "#     print(row['message'])"
   ]
  },
  {
   "cell_type": "markdown",
   "metadata": {
    "id": "bRm_f3y2hjHc"
   },
   "source": [
    "# APPENDIX - DEVELOPMENT"
   ]
  },
  {
   "cell_type": "code",
   "execution_count": null,
   "metadata": {
    "colab": {
     "base_uri": "https://localhost:8080/",
     "height": 168
    },
    "id": "YaTtfs0XvVnn",
    "outputId": "b3ae8751-0c97-4665-908e-11e51a13db38"
   },
   "outputs": [],
   "source": [
    "raise Exception(\"Development and Demo Code Below\")"
   ]
  },
  {
   "cell_type": "markdown",
   "metadata": {
    "id": "K7Ou_UIusRjp"
   },
   "source": [
    "## Demo Functions WORKFLOW"
   ]
  },
  {
   "cell_type": "markdown",
   "metadata": {
    "id": "529T3oc6vQaB"
   },
   "source": [
    "- Demonstration of indiviudal functions"
   ]
  },
  {
   "cell_type": "code",
   "execution_count": null,
   "metadata": {
    "id": "5cNgc6it_g-1"
   },
   "outputs": [],
   "source": [
    "# Function to get 1 student's milestone - can do an exact OR partial name match\n",
    "mstones = get_student_milestones(df,'Daniel',verbose=True)\n",
    "mstones"
   ]
  },
  {
   "cell_type": "code",
   "execution_count": null,
   "metadata": {
    "id": "hDwilAiQhq0s"
   },
   "outputs": [],
   "source": [
    "## can also get with date index\n",
    "mstones_ts = get_student_milestones(df,'Daniel',as_dates=True, verbose=True)\n",
    "mstones_ts.head(3)"
   ]
  },
  {
   "cell_type": "code",
   "execution_count": null,
   "metadata": {
    "id": "dSGZwh57q54m"
   },
   "outputs": [],
   "source": [
    "## get full report \n",
    "report = get_milestone_report(df,'Daniel')\n",
    "report.keys()"
   ]
  },
  {
   "cell_type": "code",
   "execution_count": null,
   "metadata": {
    "id": "bPDw18L8iEJy"
   },
   "outputs": [],
   "source": [
    "## report of last/next/paste due mielstones\n",
    "report['report']"
   ]
  },
  {
   "cell_type": "code",
   "execution_count": null,
   "metadata": {
    "id": "se1ZcLw9rnjd"
   },
   "outputs": [],
   "source": [
    "## Example Student\n",
    "student_name = students_included[0]\n",
    "generate_detailed_message(df,student_name)"
   ]
  },
  {
   "cell_type": "code",
   "execution_count": null,
   "metadata": {
    "id": "BPQGQtV5hk1t"
   },
   "outputs": [],
   "source": []
  },
  {
   "cell_type": "markdown",
   "metadata": {
    "id": "fLdOJd4yqBbN"
   },
   "source": [
    "### Approach for Report"
   ]
  },
  {
   "cell_type": "markdown",
   "metadata": {
    "id": "2VzlnV8Apn8R"
   },
   "source": [
    "- Now that I have the time series verison of the miletones:\n",
    "    1. Grab the last completed milestone and date completed\n",
    "    2. Get a list of all milestones from before today that are not completed. \n",
    "    3. Grab the next milestone and due date.\n",
    "    4. Summarize their current progress as how behind/ahead their last completed mstone was"
   ]
  },
  {
   "cell_type": "code",
   "execution_count": null,
   "metadata": {
    "id": "MZQUbl0zpWqr"
   },
   "outputs": [],
   "source": [
    "## get milestones with due date as index\n",
    "mstones_ts = get_student_milestones(df,'Daniel Ross-Leutwyler',as_dates=True)\n",
    "mstones_ts.head()"
   ]
  },
  {
   "cell_type": "code",
   "execution_count": null,
   "metadata": {
    "id": "PVLdk8CbmSUl"
   },
   "outputs": [],
   "source": [
    "## Get today as DATE (not date-time)\n",
    "today = dt.date.today()\n",
    "today"
   ]
  },
  {
   "cell_type": "code",
   "execution_count": null,
   "metadata": {
    "id": "uonBRE6X7Ml8"
   },
   "outputs": [],
   "source": [
    "## get due before today \n",
    "before_today = mstones_ts.loc[:today].copy()\n",
    "before_today"
   ]
  },
  {
   "cell_type": "code",
   "execution_count": null,
   "metadata": {
    "id": "27OCLJLSrqwH"
   },
   "outputs": [],
   "source": [
    "## get last_completed\n",
    "last_mstone= mstones_ts.loc[mstones_ts['Completed Date'].notnull()].tail(1)\n",
    "next_mstone= mstones_ts.loc[mstones_ts['Completed Date'].isnull()].head(1)\n",
    "\n",
    "display(last_mstone,next_mstone)"
   ]
  },
  {
   "cell_type": "code",
   "execution_count": null,
   "metadata": {
    "id": "jnjteyPnq561"
   },
   "outputs": [],
   "source": [
    "## get past-due\n",
    "past_due = before_today.loc[before_today['Completed Date'].isna(), \n",
    "                            ['Ordinality','Milestone Name','Milestone on Timeness']]\n",
    "past_due"
   ]
  }
 ],
 "metadata": {
  "colab": {
   "collapsed_sections": [],
   "name": "Programmatically Generating Flex Weekly Check-In Message-Final.ipynb",
   "provenance": [],
   "toc_visible": true
  },
  "interpreter": {
   "hash": "7a3d059f376a9d0551670ac739dcc834dd342b8d7d90019c6bdbef463e084516"
  },
  "kernelspec": {
   "display_name": "Python 3",
   "language": "python",
   "name": "python3"
  },
  "language_info": {
   "codemirror_mode": {
    "name": "ipython",
    "version": 3
   },
   "file_extension": ".py",
   "mimetype": "text/x-python",
   "name": "python",
   "nbconvert_exporter": "python",
   "pygments_lexer": "ipython3",
   "version": "3.8.5"
  },
  "toc": {
   "base_numbering": 1,
   "nav_menu": {},
   "number_sections": true,
   "sideBar": true,
   "skip_h1_title": false,
   "title_cell": "Table of Contents",
   "title_sidebar": "Contents",
   "toc_cell": false,
   "toc_position": {},
   "toc_section_display": true,
   "toc_window_display": true
  },
  "widgets": {
   "application/vnd.jupyter.widget-state+json": {
    "09f9d79cbc5a4189b813484981d3486c": {
     "model_module": "@jupyter-widgets/base",
     "model_module_version": "1.2.0",
     "model_name": "LayoutModel",
     "state": {
      "_model_module": "@jupyter-widgets/base",
      "_model_module_version": "1.2.0",
      "_model_name": "LayoutModel",
      "_view_count": null,
      "_view_module": "@jupyter-widgets/base",
      "_view_module_version": "1.2.0",
      "_view_name": "LayoutView",
      "align_content": null,
      "align_items": null,
      "align_self": null,
      "border": null,
      "bottom": null,
      "display": null,
      "flex": null,
      "flex_flow": null,
      "grid_area": null,
      "grid_auto_columns": null,
      "grid_auto_flow": null,
      "grid_auto_rows": null,
      "grid_column": null,
      "grid_gap": null,
      "grid_row": null,
      "grid_template_areas": null,
      "grid_template_columns": null,
      "grid_template_rows": null,
      "height": null,
      "justify_content": null,
      "justify_items": null,
      "left": null,
      "margin": null,
      "max_height": null,
      "max_width": null,
      "min_height": null,
      "min_width": null,
      "object_fit": null,
      "object_position": null,
      "order": null,
      "overflow": null,
      "overflow_x": null,
      "overflow_y": null,
      "padding": null,
      "right": null,
      "top": null,
      "visibility": null,
      "width": null
     }
    },
    "165560388d64434bae3d9a03ae889fe6": {
     "model_module": "@jupyter-widgets/controls",
     "model_module_version": "1.5.0",
     "model_name": "DescriptionStyleModel",
     "state": {
      "_model_module": "@jupyter-widgets/controls",
      "_model_module_version": "1.5.0",
      "_model_name": "DescriptionStyleModel",
      "_view_count": null,
      "_view_module": "@jupyter-widgets/base",
      "_view_module_version": "1.2.0",
      "_view_name": "StyleView",
      "description_width": ""
     }
    },
    "22a87ffb6b02458ca58c46eea762af75": {
     "model_module": "@jupyter-widgets/controls",
     "model_module_version": "1.5.0",
     "model_name": "VBoxModel",
     "state": {
      "_dom_classes": [
       "widget-interact"
      ],
      "_model_module": "@jupyter-widgets/controls",
      "_model_module_version": "1.5.0",
      "_model_name": "VBoxModel",
      "_view_count": null,
      "_view_module": "@jupyter-widgets/controls",
      "_view_module_version": "1.5.0",
      "_view_name": "VBoxView",
      "box_style": "",
      "children": [
       "IPY_MODEL_c3690836f1b545eb9b53d8b0eb583f64",
       "IPY_MODEL_4261275f57a64cda8231da5634577d33"
      ],
      "layout": "IPY_MODEL_f17c65349162421098a19ae7f44da049"
     }
    },
    "4261275f57a64cda8231da5634577d33": {
     "model_module": "@jupyter-widgets/output",
     "model_module_version": "1.0.0",
     "model_name": "OutputModel",
     "state": {
      "_dom_classes": [],
      "_model_module": "@jupyter-widgets/output",
      "_model_module_version": "1.0.0",
      "_model_name": "OutputModel",
      "_view_count": null,
      "_view_module": "@jupyter-widgets/output",
      "_view_module_version": "1.0.0",
      "_view_name": "OutputView",
      "layout": "IPY_MODEL_09f9d79cbc5a4189b813484981d3486c",
      "msg_id": "",
      "outputs": [
       {
        "name": "stdout",
        "output_type": "stream",
        "text": [
         "------------------------------------------------------------\n",
         "Alec Hing\n",
         "https://guide.flatironschool.com/students/f7734eb5-4486-4402-b600-7a567504a56d/notes\n",
         "\n",
         "Hey Alec,\n",
         ":sunrise: Happy Tuesday!:sun-happy:\n",
         "\n",
         "I just wanted to check in with you and see how everything is going. How was your weekend?\n",
         "\n",
         "- Also, I was wondering what topics are you planning on tackling this week?\n",
         "\n",
         "- I also wanted to remind you of the milestones (base.flatironschool.com/milestones) for your 40-week pace:\n",
         "    - Your Last Milestone completed was:\n",
         "        - Topic 9: APIs - Cumulative Lab, which you completed 10 days behind schedule.\n",
         "\n",
         "    - Your next milestone is to complete:\n",
         "        Phase 1 Project by 10-21-2021\n",
         "\n",
         "    - Right now you are <INSTRUCTOR WRITTEN SUMMARY> your desired 40-week pace.\n",
         "\n",
         "\n",
         "- Finally, I just wanted to check if there is anything that you need or that I can assist you with?\n",
         "\n",
         "Thanks!\n",
         "\n"
        ]
       },
       {
        "data": {
         "text/html": "<div>\n<style scoped>\n    .dataframe tbody tr th:only-of-type {\n        vertical-align: middle;\n    }\n\n    .dataframe tbody tr th {\n        vertical-align: top;\n    }\n\n    .dataframe thead th {\n        text-align: right;\n    }\n</style>\n<table border=\"1\" class=\"dataframe\">\n  <thead>\n    <tr style=\"text-align: right;\">\n      <th></th>\n      <th></th>\n      <th>Due Date</th>\n      <th>Milestone Name</th>\n      <th>Completed Date</th>\n      <th>Milestone on Timeness</th>\n    </tr>\n    <tr>\n      <th></th>\n      <th>Milestone #</th>\n      <th></th>\n      <th></th>\n      <th></th>\n      <th></th>\n    </tr>\n  </thead>\n  <tbody>\n    <tr>\n      <th>last</th>\n      <th>5</th>\n      <td>2021-10-03</td>\n      <td>Topic 9: APIs - Cumulative Lab</td>\n      <td>2021-10-13</td>\n      <td>10 days behind schedule</td>\n    </tr>\n    <tr>\n      <th>next</th>\n      <th>6</th>\n      <td>2021-10-21</td>\n      <td>Phase 1 Project</td>\n      <td>NaT</td>\n      <td>due in 2 days</td>\n    </tr>\n  </tbody>\n</table>\n</div>",
         "text/plain": "                   Due Date  ...    Milestone on Timeness\n     Milestone #             ...                         \nlast 5           2021-10-03  ...  10 days behind schedule\nnext 6           2021-10-21  ...            due in 2 days\n\n[2 rows x 4 columns]"
        },
        "metadata": {},
        "output_type": "display_data"
       }
      ]
     }
    },
    "538fd5aa01594968aabb97952c5a4988": {
     "model_module": "@jupyter-widgets/base",
     "model_module_version": "1.2.0",
     "model_name": "LayoutModel",
     "state": {
      "_model_module": "@jupyter-widgets/base",
      "_model_module_version": "1.2.0",
      "_model_name": "LayoutModel",
      "_view_count": null,
      "_view_module": "@jupyter-widgets/base",
      "_view_module_version": "1.2.0",
      "_view_name": "LayoutView",
      "align_content": null,
      "align_items": null,
      "align_self": null,
      "border": null,
      "bottom": null,
      "display": null,
      "flex": null,
      "flex_flow": null,
      "grid_area": null,
      "grid_auto_columns": null,
      "grid_auto_flow": null,
      "grid_auto_rows": null,
      "grid_column": null,
      "grid_gap": null,
      "grid_row": null,
      "grid_template_areas": null,
      "grid_template_columns": null,
      "grid_template_rows": null,
      "height": null,
      "justify_content": null,
      "justify_items": null,
      "left": null,
      "margin": null,
      "max_height": null,
      "max_width": null,
      "min_height": null,
      "min_width": null,
      "object_fit": null,
      "object_position": null,
      "order": null,
      "overflow": null,
      "overflow_x": null,
      "overflow_y": null,
      "padding": null,
      "right": null,
      "top": null,
      "visibility": null,
      "width": null
     }
    },
    "c3690836f1b545eb9b53d8b0eb583f64": {
     "model_module": "@jupyter-widgets/controls",
     "model_module_version": "1.5.0",
     "model_name": "DropdownModel",
     "state": {
      "_dom_classes": [],
      "_model_module": "@jupyter-widgets/controls",
      "_model_module_version": "1.5.0",
      "_model_name": "DropdownModel",
      "_options_labels": [
       "Alec Hing",
       "Alex Liang",
       "Alexander Casey",
       "Andrew Martinez",
       "Austin Towery",
       "Claudia Tsai",
       "Colm yeh",
       "Daniel Ross-Leutwyler",
       "Donica Miller",
       "Ferdinand Beaman",
       "Freddy Abrahamson",
       "James Pheby",
       "Jim Petoskey",
       "Kevin Culver",
       "Kregg Jackson",
       "Louis Casanave",
       "Maliha Momtaj",
       "Matthew Noonan",
       "Monique Hercules",
       "Morgan Didjurgis",
       "Nick Winokur",
       "Noor Syed",
       "Robert Cauvy",
       "Ryan Sajac",
       "Samuel Oliver",
       "Simran Kaur"
      ],
      "_view_count": null,
      "_view_module": "@jupyter-widgets/controls",
      "_view_module_version": "1.5.0",
      "_view_name": "DropdownView",
      "description": "student",
      "description_tooltip": null,
      "disabled": false,
      "index": 0,
      "layout": "IPY_MODEL_538fd5aa01594968aabb97952c5a4988",
      "style": "IPY_MODEL_165560388d64434bae3d9a03ae889fe6"
     }
    },
    "f17c65349162421098a19ae7f44da049": {
     "model_module": "@jupyter-widgets/base",
     "model_module_version": "1.2.0",
     "model_name": "LayoutModel",
     "state": {
      "_model_module": "@jupyter-widgets/base",
      "_model_module_version": "1.2.0",
      "_model_name": "LayoutModel",
      "_view_count": null,
      "_view_module": "@jupyter-widgets/base",
      "_view_module_version": "1.2.0",
      "_view_name": "LayoutView",
      "align_content": null,
      "align_items": null,
      "align_self": null,
      "border": null,
      "bottom": null,
      "display": null,
      "flex": null,
      "flex_flow": null,
      "grid_area": null,
      "grid_auto_columns": null,
      "grid_auto_flow": null,
      "grid_auto_rows": null,
      "grid_column": null,
      "grid_gap": null,
      "grid_row": null,
      "grid_template_areas": null,
      "grid_template_columns": null,
      "grid_template_rows": null,
      "height": null,
      "justify_content": null,
      "justify_items": null,
      "left": null,
      "margin": null,
      "max_height": null,
      "max_width": null,
      "min_height": null,
      "min_width": null,
      "object_fit": null,
      "object_position": null,
      "order": null,
      "overflow": null,
      "overflow_x": null,
      "overflow_y": null,
      "padding": null,
      "right": null,
      "top": null,
      "visibility": null,
      "width": null
     }
    }
   }
  }
 },
 "nbformat": 4,
 "nbformat_minor": 1
}
