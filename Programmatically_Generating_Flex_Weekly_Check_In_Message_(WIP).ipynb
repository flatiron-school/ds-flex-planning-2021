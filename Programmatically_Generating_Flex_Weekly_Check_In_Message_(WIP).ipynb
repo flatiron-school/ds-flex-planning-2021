{
  "nbformat": 4,
  "nbformat_minor": 0,
  "metadata": {
    "colab": {
      "name": "Programmatically Generating Flex Weekly Check-In Message (WIP).ipynb",
      "provenance": [],
      "collapsed_sections": [],
      "authorship_tag": "ABX9TyMo31e0cbAa+uwEbloc9GX+",
      "include_colab_link": true
    },
    "kernelspec": {
      "name": "python3",
      "display_name": "Python 3"
    },
    "language_info": {
      "name": "python"
    }
  },
  "cells": [
    {
      "cell_type": "markdown",
      "metadata": {
        "id": "view-in-github",
        "colab_type": "text"
      },
      "source": [
        "<a href=\"https://colab.research.google.com/github/flatiron-school/ds-flex-planning-2021/blob/main/Programmatically_Generating_Flex_Weekly_Check_In_Message_(WIP).ipynb\" target=\"_parent\"><img src=\"https://colab.research.google.com/assets/colab-badge.svg\" alt=\"Open In Colab\"/></a>"
      ]
    },
    {
      "cell_type": "markdown",
      "metadata": {
        "id": "hZki1LXecd5e"
      },
      "source": [
        "# Programmatically Generating Flex Weekly Check-In Message (WIP)"
      ]
    },
    {
      "cell_type": "markdown",
      "metadata": {
        "id": "dZDOA9fschSd"
      },
      "source": [
        "- Goal is to be able to generate (mostly) pre-filled messages to students based \n",
        "upon their milestone progress. \n",
        "\n",
        "## Approach\n",
        "- **The most difficult part of this task is to get the student milestone info.**\n",
        "    - Idea 1: Use csv from [Flex Looker dashboard](https://flatiron.looker.com/dashboards-next/596?Cohort+Start+Date=before+0+minutes+ago&Discipline=Data+Science&Cohort+Name=&Instructor=James+Irving)'s third table - Student Rosters"
      ]
    },
    {
      "cell_type": "code",
      "metadata": {
        "id": "qKiIxocUdLPv"
      },
      "source": [
        "!pip install -U fsds\n",
        "from fsds.imports import *"
      ],
      "execution_count": null,
      "outputs": []
    },
    {
      "cell_type": "code",
      "metadata": {
        "id": "lr1s2XeHd8lb"
      },
      "source": [
        "template = \"\"\"\n",
        "Hey <student name>,\n",
        ":sunrise: Happy Tuesday!:sun-happy:\n",
        "\n",
        "I just wanted to check in with you and see how everything is going. Did you have a good weekend?\n",
        "\n",
        "\n",
        "- I also wanted to remind you of your milestones (base.flatironschool.com/milestones):\n",
        "\t- Your next milestone is to complete <> by <>\n",
        "\t- Right now you are <on track/behind/ahead> your current pace.\n",
        "\n",
        "\n",
        "...<unique comment>\n",
        "Also, what topics are you tackling this week?\n",
        "...</unique comment>\n",
        "\n",
        "\n",
        "- Is there anything that you need or that I can assist you with?\n",
        "\n",
        "Thanks!\n",
        "\"\"\"\n",
        "print(template)"
      ],
      "execution_count": null,
      "outputs": []
    },
    {
      "cell_type": "markdown",
      "metadata": {
        "id": "9DvQEoDXdpqd"
      },
      "source": [
        "### Idea 1 - looker dash export"
      ]
    },
    {
      "cell_type": "code",
      "metadata": {
        "id": "x04nbdYRcYm7"
      },
      "source": [
        ""
      ],
      "execution_count": null,
      "outputs": []
    },
    {
      "cell_type": "code",
      "metadata": {
        "id": "sJlITKnXdEBC"
      },
      "source": [
        "from google.colab import files\n",
        "\n",
        "uploaded = files.upload()\n",
        "\n",
        "for fn in uploaded.keys():\n",
        "  print('User uploaded file \"{name}\" with length {length} bytes'.format(\n",
        "      name=fn, length=len(uploaded[fn])))\n",
        "  "
      ],
      "execution_count": null,
      "outputs": []
    },
    {
      "cell_type": "code",
      "metadata": {
        "id": "l9CVXuLIdk5X"
      },
      "source": [
        "## load csv as df\n",
        "if len(uploaded) == 1:\n",
        "    df = pd.read_csv(list(uploaded.keys())[0],index_col=0)\n",
        "    display(df.head())"
      ],
      "execution_count": null,
      "outputs": []
    },
    {
      "cell_type": "code",
      "metadata": {
        "id": "n-XhbLQ8D8xU"
      },
      "source": [
        "# df.sort_values('First Name')"
      ],
      "execution_count": null,
      "outputs": []
    },
    {
      "cell_type": "code",
      "metadata": {
        "id": "zFsJos1_uh1H"
      },
      "source": [
        "# ## alex casey's guide page\n",
        "# guide_milestones_url_alex = 'https://guide.flatironschool.com/students/9ae923c4-810f-48a2-acda-d6a663a8bae0/milestones'"
      ],
      "execution_count": null,
      "outputs": []
    },
    {
      "cell_type": "code",
      "metadata": {
        "id": "Ncudc4Speozn"
      },
      "source": [
        "## saving example student\n",
        "student = df.loc[7]\n",
        "student"
      ],
      "execution_count": null,
      "outputs": []
    },
    {
      "cell_type": "code",
      "metadata": {
        "id": "rSBoqPfFsnHK"
      },
      "source": [
        "## guide milestone page\n",
        "guide_milestones_url = f\"https://guide.flatironschool.com/students/{student['Learn UUID']}/milestones\"\n",
        "guide_milestones_url"
      ],
      "execution_count": null,
      "outputs": []
    },
    {
      "cell_type": "code",
      "metadata": {
        "id": "7UJbM8m0snSl"
      },
      "source": [
        "# student['Timeliness of Last Completed Milestone']"
      ],
      "execution_count": null,
      "outputs": []
    },
    {
      "cell_type": "markdown",
      "metadata": {
        "id": "07-OMguy5bIC"
      },
      "source": [
        "### CONSTRUCTING THE MESSAGE"
      ]
    },
    {
      "cell_type": "code",
      "metadata": {
        "id": "-JgBA_qXdzDq"
      },
      "source": [
        "## SAVING MESSAGE COMPONENTS\n",
        "import datetime as dt\n",
        "today_date = dt.datetime.today()\n",
        "\n",
        "## get day name\n",
        "day_of_week = today_date.strftime(\"%A\")\n",
        "\n",
        "## Get 1=Monday version of weekday\n",
        "if today_date.isoweekday() <= 2:\n",
        "    greeting_q = \"How was your weekend?\"\n",
        "else:\n",
        "    greeting_q = \"How is your week going so far?\""
      ],
      "execution_count": null,
      "outputs": []
    },
    {
      "cell_type": "code",
      "metadata": {
        "id": "saD-mk-csA_q"
      },
      "source": [
        "## Saving f-string variables \n",
        "name = student[\"First Name\"]\n",
        "\n",
        "last_mstone = student['Last Milestone Completed']\n",
        "last_mstone_timely = student['Timeliness of Last Completed Milestone']\n",
        "\n",
        "next_mstone_timely = student['Pacing to Next Milestone']\n",
        "\n",
        "pace = student[\"Current Pacing in Weeks\"]\n",
        "\n",
        "\n",
        "unique_q = \"What topics are you planning on tackling this week?\"\n",
        "unique_q = unique_q[0].lower() + unique_q[1:]\n",
        "print(name, last_mstone, next_mstone_timely,pace,sep='\\n')"
      ],
      "execution_count": null,
      "outputs": []
    },
    {
      "cell_type": "code",
      "metadata": {
        "id": "JKfGtF55Si8f"
      },
      "source": [
        "student"
      ],
      "execution_count": null,
      "outputs": []
    },
    {
      "cell_type": "code",
      "metadata": {
        "id": "QkMoKMoCemuV"
      },
      "source": [
        "## F-String Template\n",
        "template = f\"\"\"\n",
        "Hey {name},\n",
        ":sunrise: Happy {day_of_week}!:sun-happy:\n",
        "\n",
        "I just wanted to check in with you and see how everything is going. {greeting_q}\n",
        "\n",
        "\n",
        "- I also wanted to remind you of the milestones (base.flatironschool.com/milestones) for your {pace}-week pace:\n",
        "    - Your Last Milestone completed was:\n",
        "\t\t- {last_mstone} {last_mstone_timely}\n",
        "\t- Your next milestone is to complete <> by <>\n",
        "\t- Right now you are {next_mstone_timely} your desires {pace}-week milestones.\n",
        "\n",
        "\n",
        "- Also, {unique_q}\n",
        "\n",
        "- Finally, I just wanted to check if there is anything that you need or that I can assist you with?\n",
        "\n",
        "Thanks!\n",
        "\"\"\"\n",
        "print(template)"
      ],
      "execution_count": null,
      "outputs": []
    },
    {
      "cell_type": "code",
      "metadata": {
        "id": "6tOQppvEe16q"
      },
      "source": [
        "def generate_message(student,unique_q = \"What topics are you planning on tackling this week?\"):\n",
        "    \"\"\"Generates a weekly check-in message when applied across rows.\n",
        "    \n",
        "    Example Usage:\n",
        "    >> df.apply(generate_message,axis=1)\"\"\"\n",
        "    ## SAVING MESSAGE COMPONENTS\n",
        "    import datetime as dt\n",
        "    today_date = dt.datetime.today()\n",
        "\n",
        "    ## get day name\n",
        "    day_of_week = today_date.strftime(\"%A\")\n",
        "\n",
        "    ## Get 1=Monday version of weekday\n",
        "    if today_date.isoweekday() <= 2:\n",
        "        greeting_q = \"How was your weekend?\"\n",
        "    else:\n",
        "        greeting_q = \"How is your week going so far?\"\n",
        "\n",
        "\n",
        "\n",
        "\n",
        "    ## Saving student info for  f-string variables \n",
        "    name = student[\"First Name\"]\n",
        "\n",
        "    last_mstone = student['Last Milestone Completed']\n",
        "    last_mstone_timely = student['Timeliness of Last Completed Milestone']\n",
        "\n",
        "    next_mstone_timely = student['Pacing to Next Milestone']\n",
        "\n",
        "    pace = student[\"Current Pacing in Weeks\"]\n",
        "\n",
        "\n",
        "    \n",
        "    unique_q = unique_q[0].lower() + unique_q[1:]\n",
        "\n",
        "    \n",
        "    message = \\\n",
        "    f\"\"\"Hey {name},\n",
        "    :sunrise: Happy {day_of_week}!:sun-happy:\n",
        "\n",
        "    I just wanted to check in with you and see how everything is going. {greeting_q}\n",
        "\n",
        "\n",
        "    - I also wanted to remind you of the milestones (base.flatironschool.com/milestones) for your {pace}-week pace:\n",
        "        - Your Last Milestone completed was:\n",
        "            - {last_mstone}, which you completed {last_mstone_timely}\n",
        "        - Your next milestone is to complete <NEXT MILESTONE NAME> by <NEXT MILESTONE DATE>\n",
        "        - Right now you are {next_mstone_timely} your desired {pace}-week milestones.\n",
        "\n",
        "\n",
        "    - Also, {unique_q}\n",
        "\n",
        "    - Finally, I just wanted to check if there is anything that you need or that I can assist you with?\n",
        "\n",
        "    Thanks!\n",
        "    \"\"\"\n",
        "    return message\n"
      ],
      "execution_count": null,
      "outputs": []
    },
    {
      "cell_type": "code",
      "metadata": {
        "id": "wSLwsmOA8r-S"
      },
      "source": [
        "df['message'] = df.apply(generate_message,axis=1)\n",
        "df"
      ],
      "execution_count": null,
      "outputs": []
    },
    {
      "cell_type": "code",
      "metadata": {
        "id": "nymrLpIN9HGV"
      },
      "source": [
        "# df['message']"
      ],
      "execution_count": null,
      "outputs": []
    },
    {
      "cell_type": "code",
      "metadata": {
        "id": "PPGXAXPZ9HiG"
      },
      "source": [
        "for i,row in df.iterrows():\n",
        "    print('---'*20)\n",
        "    \n",
        "    id = row[\"Learn UUID\"]\n",
        "    mstone_url = f\"https://guide.flatironschool.com/students/{id}/milestones\"\n",
        "    notes_url = f\"https://guide.flatironschool.com/students/{id}/notes\"\n",
        "\n",
        "    print(row['First Name'] + \" \" + row[\"Last Name\"])\n",
        "    print(notes_url)\n",
        "    print(row['message'])"
      ],
      "execution_count": null,
      "outputs": []
    },
    {
      "cell_type": "code",
      "metadata": {
        "id": "KWdHVM6g9Rrn"
      },
      "source": [
        ""
      ],
      "execution_count": null,
      "outputs": []
    }
  ]
}